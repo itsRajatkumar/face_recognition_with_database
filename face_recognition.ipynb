{
  "nbformat": 4,
  "nbformat_minor": 0,
  "metadata": {
    "colab": {
      "provenance": [],
      "authorship_tag": "ABX9TyMdJ42bTP/GZFIcyX2NqptB",
      "include_colab_link": true
    },
    "kernelspec": {
      "name": "python3",
      "display_name": "Python 3"
    },
    "language_info": {
      "name": "python"
    },
    "gpuClass": "standard",
    "accelerator": "GPU"
  },
  "cells": [
    {
      "cell_type": "markdown",
      "metadata": {
        "id": "view-in-github",
        "colab_type": "text"
      },
      "source": [
        "<a href=\"https://colab.research.google.com/github/itsRajatkumar/face_recognition_with_database/blob/main/face_recognition.ipynb\" target=\"_parent\"><img src=\"https://colab.research.google.com/assets/colab-badge.svg\" alt=\"Open In Colab\"/></a>"
      ]
    },
    {
      "cell_type": "markdown",
      "source": [
        "Install all dependancy"
      ],
      "metadata": {
        "id": "Uxv6q7MGjTbC"
      }
    },
    {
      "cell_type": "markdown",
      "source": [],
      "metadata": {
        "id": "YOxYcpynFrzt"
      }
    },
    {
      "cell_type": "code",
      "execution_count": null,
      "metadata": {
        "id": "QFZzJDXFf75z"
      },
      "outputs": [],
      "source": [
        "!pip install face_recognition\n",
        "!pip install numpy\n",
        "!pip install scikit-learn\n",
        "!pip install pysqlite3"
      ]
    },
    {
      "cell_type": "markdown",
      "source": [
        "setup kaggle creadentials"
      ],
      "metadata": {
        "id": "nrwAuhZildhT"
      }
    },
    {
      "cell_type": "code",
      "source": [
        "!mkdir ~/.kaggle\n",
        "!touch ~/.kaggle/kaggle.json\n",
        "\n",
        "api_token = {\"username\":\"thisisrajatkumar\",\"key\":\"\"}\n",
        "\n",
        "import json\n",
        "\n",
        "with open('/root/.kaggle/kaggle.json', 'w') as file:\n",
        "    json.dump(api_token, file)\n",
        "\n",
        "!chmod 600 ~/.kaggle/kaggle.json"
      ],
      "metadata": {
        "id": "sivo-1cWVxc-"
      },
      "execution_count": null,
      "outputs": []
    },
    {
      "cell_type": "markdown",
      "source": [
        "Download dataset from kaggel"
      ],
      "metadata": {
        "id": "FvMY3cJXlmpz"
      }
    },
    {
      "cell_type": "code",
      "source": [
        "! kaggle datasets download -d vishesh1412/celebrity-face-image-dataset\n",
        "! kaggle datasets download -d tanishgupta26/famous-personalities-image-dataset\n",
        "! kaggle datasets download -d iamsouravbanerjee/indian-actor-images-dataset"
      ],
      "metadata": {
        "id": "mfNGBvp8UZvf"
      },
      "execution_count": null,
      "outputs": []
    },
    {
      "cell_type": "markdown",
      "source": [
        "Unzip data set"
      ],
      "metadata": {
        "id": "vhsp-OqPloCL"
      }
    },
    {
      "cell_type": "code",
      "source": [
        "!unzip celebrity-face-image-dataset.zip\n",
        "!unzip famous-personalities-image-dataset.zip\n",
        "!unzip indian-actor-images-dataset.zip"
      ],
      "metadata": {
        "id": "jiQSkFKIWdZe"
      },
      "execution_count": null,
      "outputs": []
    },
    {
      "cell_type": "markdown",
      "source": [
        "Create table top store the face encoding values"
      ],
      "metadata": {
        "id": "i9kVchPXlvBz"
      }
    },
    {
      "cell_type": "code",
      "source": [
        "from google.colab import drive\n",
        "drive.mount('/gdrive')\n"
      ],
      "metadata": {
        "id": "yw1LaV9GZSOV"
      },
      "execution_count": null,
      "outputs": []
    },
    {
      "cell_type": "code",
      "source": [
        "! cp -r \"Celebrity Faces Dataset/\" /gdrive/MyDrive/face_rec/\n",
        "! cp -r /content/Dataset/Dataset/* \"/gdrive/MyDrive/face_rec/Celebrity Faces Dataset/\"\n",
        "! cp -r \"/content/Bollywood Actor Images/Bollywood Actor Images\"/* \"/gdrive/MyDrive/face_rec/Celebrity Faces Dataset/\""
      ],
      "metadata": {
        "id": "SJArNmpwbE4a"
      },
      "execution_count": null,
      "outputs": []
    },
    {
      "cell_type": "code",
      "source": [
        "# Create a table for storing face encodings\n",
        "import sqlite3\n",
        "import face_recognition\n",
        "conn = sqlite3.connect(\"/gdrive/MyDrive/face_rec/mydatabase.db\")\n",
        "# conn = sqlite3.connect(\"mydatabase.db\")\n",
        "cur = conn.cursor()\n",
        "cur.execute('''CREATE TABLE IF NOT EXISTS face_encodings (\n",
        "    id INTEGER PRIMARY KEY AUTOINCREMENT,\n",
        "    name TEXT NOT NULL,\n",
        "    e1 FLOAT NOT NULL,\n",
        "    e2 FLOAT NOT NULL,\n",
        "    e3 FLOAT NOT NULL,\n",
        "    e4 FLOAT NOT NULL,\n",
        "    e5 FLOAT NOT NULL,\n",
        "    e6 FLOAT NOT NULL,\n",
        "    e7 FLOAT NOT NULL,\n",
        "    e8 FLOAT NOT NULL,\n",
        "    e9 FLOAT NOT NULL,\n",
        "    e10 FLOAT NOT NULL,\n",
        "    e11 FLOAT NOT NULL,\n",
        "    e12 FLOAT NOT NULL,\n",
        "    e13 FLOAT NOT NULL,\n",
        "    e14 FLOAT NOT NULL,\n",
        "    e15 FLOAT NOT NULL,\n",
        "    e16 FLOAT NOT NULL,\n",
        "    e17 FLOAT NOT NULL,\n",
        "    e18 FLOAT NOT NULL,\n",
        "    e19 FLOAT NOT NULL,\n",
        "    e20 FLOAT NOT NULL,\n",
        "    e21 FLOAT NOT NULL,\n",
        "    e22 FLOAT NOT NULL,\n",
        "    e23 FLOAT NOT NULL,\n",
        "    e24 FLOAT NOT NULL,\n",
        "    e25 FLOAT NOT NULL,\n",
        "    e26 FLOAT NOT NULL,\n",
        "    e27 FLOAT NOT NULL,\n",
        "    e28 FLOAT NOT NULL,\n",
        "    e29 FLOAT NOT NULL,\n",
        "    e30 FLOAT NOT NULL,\n",
        "    e31 FLOAT NOT NULL,\n",
        "    e32 FLOAT NOT NULL,\n",
        "    e33 FLOAT NOT NULL,\n",
        "    e34 FLOAT NOT NULL,\n",
        "    e35 FLOAT NOT NULL,\n",
        "    e36 FLOAT NOT NULL,\n",
        "    e37 FLOAT NOT NULL,\n",
        "    e38 FLOAT NOT NULL,\n",
        "    e39 FLOAT NOT NULL,\n",
        "    e40 FLOAT NOT NULL,\n",
        "    e41 FLOAT NOT NULL,\n",
        "    e42 FLOAT NOT NULL,\n",
        "    e43 FLOAT NOT NULL,\n",
        "    e44 FLOAT NOT NULL,\n",
        "    e45 FLOAT NOT NULL,\n",
        "    e46 FLOAT NOT NULL,\n",
        "    e47 FLOAT NOT NULL,\n",
        "    e48 FLOAT NOT NULL,\n",
        "    e49 FLOAT NOT NULL,\n",
        "    e50 FLOAT NOT NULL,\n",
        "    e51 FLOAT NOT NULL,\n",
        "    e52 FLOAT NOT NULL,\n",
        "    e53 FLOAT NOT NULL,\n",
        "    e54 FLOAT NOT NULL,\n",
        "    e55 FLOAT NOT NULL,\n",
        "    e56 FLOAT NOT NULL,\n",
        "    e57 FLOAT NOT NULL,\n",
        "    e58 FLOAT NOT NULL,\n",
        "    e59 FLOAT NOT NULL,\n",
        "    e60 FLOAT NOT NULL,\n",
        "    e61 FLOAT NOT NULL,\n",
        "    e62 FLOAT NOT NULL,\n",
        "    e63 FLOAT NOT NULL,\n",
        "    e64 FLOAT NOT NULL,\n",
        "    e65 FLOAT NOT NULL,\n",
        "    e66 FLOAT NOT NULL,\n",
        "    e67 FLOAT NOT NULL,\n",
        "    e68 FLOAT NOT NULL,\n",
        "    e69 FLOAT NOT NULL,\n",
        "    e70 FLOAT NOT NULL,\n",
        "    e71 FLOAT NOT NULL,\n",
        "    e72 FLOAT NOT NULL,\n",
        "    e73 FLOAT NOT NULL,\n",
        "    e74 FLOAT NOT NULL,\n",
        "    e75 FLOAT NOT NULL,\n",
        "    e76 FLOAT NOT NULL,\n",
        "    e77 FLOAT NOT NULL,\n",
        "    e78 FLOAT NOT NULL,\n",
        "    e79 FLOAT NOT NULL,\n",
        "    e80 FLOAT NOT NULL,\n",
        "    e81 FLOAT NOT NULL,\n",
        "    e82 FLOAT NOT NULL,\n",
        "    e83 FLOAT NOT NULL,\n",
        "    e84 FLOAT NOT NULL,\n",
        "    e85 FLOAT NOT NULL,\n",
        "    e86 FLOAT NOT NULL,\n",
        "    e87 FLOAT NOT NULL,\n",
        "    e88 FLOAT NOT NULL,\n",
        "    e89 FLOAT NOT NULL,\n",
        "    e90 FLOAT NOT NULL,\n",
        "    e91 FLOAT NOT NULL,\n",
        "    e92 FLOAT NOT NULL,\n",
        "    e93 FLOAT NOT NULL,\n",
        "    e94 FLOAT NOT NULL,\n",
        "    e95 FLOAT NOT NULL,\n",
        "    e96 FLOAT NOT NULL,\n",
        "    e97 FLOAT NOT NULL,\n",
        "    e98 FLOAT NOT NULL,\n",
        "    e99 FLOAT NOT NULL,\n",
        "    e100 FLOAT NOT NULL,\n",
        "    e101 FLOAT NOT NULL,\n",
        "    e102 FLOAT NOT NULL,\n",
        "    e103 FLOAT NOT NULL,\n",
        "    e104 FLOAT NOT NULL,\n",
        "    e105 FLOAT NOT NULL,\n",
        "    e106 FLOAT NOT NULL,\n",
        "    e107 FLOAT NOT NULL,\n",
        "    e108 FLOAT NOT NULL,\n",
        "    e109 FLOAT NOT NULL,\n",
        "    e110 FLOAT NOT NULL,\n",
        "    e111 FLOAT NOT NULL,\n",
        "    e112 FLOAT NOT NULL,\n",
        "    e113 FLOAT NOT NULL,\n",
        "    e114 FLOAT NOT NULL,\n",
        "    e115 FLOAT NOT NULL,\n",
        "    e116 FLOAT NOT NULL,\n",
        "    e117 FLOAT NOT NULL,\n",
        "    e118 FLOAT NOT NULL,\n",
        "    e119 FLOAT NOT NULL,\n",
        "    e120 FLOAT NOT NULL,\n",
        "    e121 FLOAT NOT NULL,\n",
        "    e122 FLOAT NOT NULL,\n",
        "    e123 FLOAT NOT NULL,\n",
        "    e124 FLOAT NOT NULL,\n",
        "    e125 FLOAT NOT NULL,\n",
        "    e126 FLOAT NOT NULL,\n",
        "    e127 FLOAT NOT NULL,\n",
        "    e128 FLOAT NOT NULL)\n",
        "''')"
      ],
      "metadata": {
        "id": "BzQYknrNsgZv"
      },
      "execution_count": null,
      "outputs": []
    },
    {
      "cell_type": "code",
      "source": [
        "# import os\n",
        "# image_files = []\n",
        "# for subdir, dirs, files in os.walk(\"/gdrive/MyDrive/face_rec/Celebrity Faces Dataset\"):\n",
        "#     print(dirs)\n",
        "#     for file in files:\n",
        "#         print(subdir + \"/\" +file)\n",
        "#         image_files.append( subdir + \"/\" +file)"
      ],
      "metadata": {
        "id": "2sqQsF_qZNeA"
      },
      "execution_count": null,
      "outputs": []
    },
    {
      "cell_type": "code",
      "source": [],
      "metadata": {
        "id": "jIOXV30CZSOV"
      },
      "execution_count": null,
      "outputs": []
    },
    {
      "cell_type": "code",
      "source": [],
      "metadata": {
        "id": "U0xRkCl4ZTZe"
      },
      "execution_count": null,
      "outputs": []
    },
    {
      "cell_type": "markdown",
      "source": [
        "Add Images encoding to database for further recognition"
      ],
      "metadata": {
        "id": "jGbe-x-5l1gi"
      }
    },
    {
      "cell_type": "code",
      "source": [
        "import sqlite3\n",
        "import face_recognition\n",
        "import os\n",
        "\n",
        "# Connect to database\n",
        "conn = sqlite3.connect(\"/gdrive/MyDrive/face_rec/mydatabase.db\")\n",
        "# conn = sqlite3.connect(\"mydatabase.db\")\n",
        "cur = conn.cursor()\n",
        "\n",
        "image_files = []\n",
        "for subdir, dirs, files in os.walk(\"/gdrive/MyDrive/face_rec/Celebrity Faces Dataset\"):\n",
        "    for file in files:\n",
        "        image_files.append( subdir + \"/\" +file)\n",
        "        \n",
        "\n",
        "count =1\n",
        "for image_file in image_files:\n",
        "    image = face_recognition.load_image_file(image_file) # download the image from the cloud\n",
        "    try:\n",
        "        face_encodings = face_recognition.face_encodings(image)[0]\n",
        "    except Exception as e:\n",
        "        print(f\"{image_file} with error {e}\")\n",
        "        continue\n",
        "    query = f'''INSERT INTO face_encodings \n",
        "    (name ,e1, e2, e3, e4, e5, e6, e7, e8, e9, e10, e11, e12, e13, e14, e15, e16, e17, e18, e19, e20, e21, e22, e23, e24, e25, e26, e27, e28, e29, e30, e31, e32, e33, e34, e35, e36, e37, e38, e39, e40, e41, e42, e43, e44, e45, e46, e47, e48, e49, e50, e51, e52, e53, e54, e55, e56, e57, e58, e59, e60, e61, e62, e63, e64, e65, e66, e67, e68, e69, e70, e71, e72, e73, e74, e75, e76, e77, e78, e79, e80, e81, e82, e83, e84, e85, e86, e87, e88, e89, e90, e91, e92, e93, e94, e95, e96, e97, e98, e99, e100, e101, e102, e103, e104, e105, e106, e107, e108, e109, e110, e111, e112, e113, e114, e115, e116, e117, e118, e119, e120, e121, e122, e123, e124, e125, e126, e127, e128)\n",
        "     VALUES ( \"{image_file.split(\"/\")[1]}\",{', '.join(str(e) for e in face_encodings)})'''\n",
        "    # Execute query\n",
        "    cur.execute(query)\n",
        "    count = count + 1\n",
        "conn.commit()\n",
        "print(\"Completed\")\n",
        "# Build INSERT query\n",
        "conn.commit()\n",
        "\n",
        "# Close database connection\n",
        "cur.close()\n",
        "conn.close()\n"
      ],
      "metadata": {
        "id": "vTD485zgvlbP"
      },
      "execution_count": null,
      "outputs": []
    },
    {
      "cell_type": "code",
      "source": [
        "# !wget https://m.media-amazon.com/images/M/MV5BMTI5ODY5NTUzMF5BMl5BanBnXkFtZTcwOTAzNTIzMw@@._V1_.jpg\n",
        "# !wget https://www.bosshunting.com.au/wp-content/uploads/2022/03/Tom-Cruise-Iron-Man.jpg\n",
        "# !wget https://m.media-amazon.com/images/M/MV5BMTM3OTUwMDYwNl5BMl5BanBnXkFtZTcwNTUyNzc3Nw@@._V1_FMjpg_UX1000_.jpg"
      ],
      "metadata": {
        "id": "WE2Gx2z5hv3m"
      },
      "execution_count": null,
      "outputs": []
    },
    {
      "cell_type": "markdown",
      "source": [
        "Check the Image found in Database"
      ],
      "metadata": {
        "id": "_EKoMMOomGYc"
      }
    },
    {
      "cell_type": "code",
      "source": [
        "import sqlite3\n",
        "import face_recognition\n",
        "import numpy as np\n",
        "import math\n",
        "def sqlite_power(x,n):\n",
        "    return (x)**n\n",
        "# Connect to database\n",
        "def detect_who_is_this(imageFile):\n",
        "    conn = sqlite3.connect(\"/gdrive/MyDrive/face_rec/mydatabase.db\")\n",
        "    cur = conn.cursor()\n",
        "    conn.create_function('sqrt', 1, math.sqrt)\n",
        "    conn.create_function(\"power\", 2, sqlite_power)\n",
        "\n",
        "    # Load test face image and compute encoding\n",
        "    test_face_image = face_recognition.load_image_file(imageFile)\n",
        "    test_face_encoding = face_recognition.face_encodings(test_face_image)[0]\n",
        "    # print(test_face_encoding)\n",
        "    # Build SELECT query with Euclidean distance calculation\n",
        "    query = '''SELECT id, name, e1, e2, e3, e4, e5, e6, e7, e8, e9, e10, e11, e12, e13, e14, e15, e16, e17, e18, e19, e20, e21, e22, e23, e24, e25, e26, e27, e28, e29, e30, e31, e32, e33, e34, e35, e36, e37, e38, e39, e40, e41, e42, e43, e44, e45, e46, e47, e48, e49, e50, e51, e52, e53, e54, e55, e56, e57, e58, e59, e60, e61, e62, e63, e64, e65, e66, e67, e68, e69, e70, e71, e72, e73, e74, e75, e76, e77, e78, e79, e80, e81, e82, e83, e84, e85, e86, e87, e88, e89, e90, e91, e92, e93, e94, e95, e96, e97, e98, e99, e100, e101, e102, e103, e104, e105, e106, e107, e108, e109, e110, e111, e112, e113, e114, e115, e116, e117, e118, e119, e120, e121, e122, e123, e124, e125, e126, e127, e128 FROM face_encodings\n",
        "            ORDER BY\n",
        "            SQRT(\n",
        "            POWER(e1 - ?, 2) + POWER(e2 - ?, 2) + POWER(e3 - ?, 2) + POWER(e4 - ?, 2) + POWER(e5 - ?, 2) + POWER(e6 - ?, 2) + POWER(e7 - ?, 2) + POWER(e8 - ?, 2) + POWER(e9 - ?, 2) + POWER(e10 - ?, 2) + POWER(e11 - ?, 2) + POWER(e12 - ?, 2) + POWER(e13 - ?, 2) + POWER(e14 - ?, 2) + POWER(e15 - ?, 2) + POWER(e16 - ?, 2) + POWER(e17 - ?, 2) + POWER(e18 - ?, 2) + POWER(e19 - ?, 2) + POWER(e20 - ?, 2) + POWER(e21 - ?, 2) + POWER(e22 - ?, 2) + POWER(e23 - ?, 2) + POWER(e24 - ?, 2) + POWER(e25 - ?, 2) + POWER(e26 - ?, 2) + POWER(e27 - ?, 2) + POWER(e28 - ?, 2) + POWER(e29 - ?, 2) + POWER(e30 - ?, 2) + POWER(e31 - ?, 2) + POWER(e32 - ?, 2) + POWER(e33 - ?, 2) + POWER(e34 - ?, 2) + POWER(e35 - ?, 2) + POWER(e36 - ?, 2) + POWER(e37 - ?, 2) + POWER(e38 - ?, 2) + POWER(e39 - ?, 2) + POWER(e40 - ?, 2) + POWER(e41 - ?, 2) + POWER(e42 - ?, 2) + POWER(e43 - ?, 2) + POWER(e44 - ?, 2) + POWER(e45 - ?, 2) + POWER(e46 - ?, 2) + POWER(e47 - ?, 2) + POWER(e48 - ?, 2) + POWER(e49 - ?, 2) + POWER(e50 - ?, 2) + POWER(e51 - ?, 2) + POWER(e52 - ?, 2) + POWER(e53 - ?, 2) + POWER(e54 - ?, 2) + POWER(e55 - ?, 2) + POWER(e56 - ?, 2) + POWER(e57 - ?, 2) + POWER(e58 - ?, 2) + POWER(e59 - ?, 2) + POWER(e60 - ?, 2) + POWER(e61 - ?, 2) + POWER(e62 - ?, 2) + POWER(e63 - ?, 2) + POWER(e64 - ?, 2) + POWER(e65 - ?, 2) + POWER(e66 - ?, 2) + POWER(e67 - ?, 2) + POWER(e68 - ?, 2) + POWER(e69 - ?, 2) + POWER(e70 - ?, 2) + POWER(e71 - ?, 2) + POWER(e72 - ?, 2) + POWER(e73 - ?, 2) + POWER(e74 - ?, 2) + POWER(e75 - ?, 2) + POWER(e76 - ?, 2) + POWER(e77 - ?, 2) + POWER(e78 - ?, 2) + POWER(e79 - ?, 2) + POWER(e80 - ?, 2) + POWER(e81 - ?, 2) + POWER(e82 - ?, 2) + POWER(e83 - ?, 2) + POWER(e84 - ?, 2) + POWER(e85 - ?, 2) + POWER(e86 - ?, 2) + POWER(e87 - ?, 2) + POWER(e88 - ?, 2) + POWER(e89 - ?, 2) + POWER(e90 - ?, 2) + POWER(e91 - ?, 2) + POWER(e92 - ?, 2) + POWER(e93 - ?, 2) + POWER(e94 - ?, 2) + POWER(e95 - ?, 2) + POWER(e96 - ?, 2) + POWER(e97 - ?, 2) + POWER(e98 - ?, 2) + POWER(e99 - ?, 2) + POWER(e100 - ?, 2) + POWER(e101 - ?, 2) + POWER(e102 - ?, 2) + POWER(e103 - ?, 2) + POWER(e104 - ?, 2) + POWER(e105 - ?, 2) + POWER(e106 - ?, 2) + POWER(e107 - ?, 2) + POWER(e108 - ?, 2) + POWER(e109 - ?, 2) + POWER(e110 - ?, 2) + POWER(e111 - ?, 2) + POWER(e112 - ?, 2) + POWER(e113 - ?, 2) + POWER(e114 - ?, 2) + POWER(e115 - ?, 2) + POWER(e116 - ?, 2) + POWER(e117 - ?, 2) + POWER(e118 - ?, 2) + POWER(e119 - ?, 2) + POWER(e120 - ?, 2) + POWER(e121 - ?, 2) + POWER(e122 - ?, 2) + POWER(e123 - ?, 2) + POWER(e124 - ?, 2) + POWER(e125 - ?, 2) + POWER(e126 - ?, 2) + POWER(e127 - ?, 2) + POWER(e128 - ?, 2)\n",
        "            )\n",
        "            LIMIT 1'''\n",
        "\n",
        "    cur.execute(query, tuple(test_face_encoding))\n",
        "    result = cur.fetchone()\n",
        "    is_matched = face_recognition.compare_faces([np.array(result[2:])], test_face_encoding)\n",
        "    cur.close()\n",
        "    conn.close()\n",
        "    return {\n",
        "        \"Matched\":is_matched[0], \n",
        "        \"Name\":result[1]\n",
        "    }\n"
      ],
      "metadata": {
        "id": "JMytlItJwjTl"
      },
      "execution_count": null,
      "outputs": []
    },
    {
      "cell_type": "code",
      "source": [
        "from google.colab.patches import cv2_imshow\n",
        "import cv2\n",
        "import numpy as np\n",
        "\n",
        "test_images = [\n",
        "    \"/gdrive/MyDrive/face_rec/Celebrity Faces Dataset/Robert Downey Jr/007_ecb8599e.jpg\",\n",
        "    \"/gdrive/MyDrive/face_rec/Celebrity Faces Dataset/Sandra Bullock/009_41aa3ed9.jpg\",\n",
        "    \"/gdrive/MyDrive/face_rec/Celebrity Faces Dataset/Tom Hanks/006_a28f75e7.jpg\",\n",
        "    \"/gdrive/MyDrive/face_rec/Celebrity Faces Dataset/Scarlett Johansson/008_10846cce.jpg\",\n",
        "    \"/gdrive/MyDrive/face_rec/Celebrity Faces Dataset/Angelina Jolie/011_7344ca35.jpg\",\n",
        "    \"/gdrive/MyDrive/face_rec/Celebrity Faces Dataset/Denzel Washington/007_1f6f632a.jpg\",\n",
        "    \"/gdrive/MyDrive/face_rec/Celebrity Faces Dataset/Brad Pitt/007_74ccfb4a.jpg\",\n",
        "    \"/gdrive/MyDrive/face_rec/Celebrity Faces Dataset/Johnny Depp/005_9406f32d.jpg\"\n",
        "               ]\n",
        "\n",
        "for image in test_images:\n",
        "  data = detect_who_is_this(image)\n",
        "  if(data[\"Matched\"]):\n",
        "    name = data[\"Name\"]\n",
        "    print(f\"Found in DataBase with Name : {name}\")\n",
        "  else:\n",
        "    print(f\"Not Found in DataBase\")\n",
        "\n",
        "#   print(f\"Image {image} is {name_of_user[0]}\")\n",
        "#   print(name_of_user)\n",
        "#   img = cv2.imread(image, cv2.IMREAD_UNCHANGED)\n",
        "#   cv2_imshow(img)\n",
        "    "
      ],
      "metadata": {
        "id": "GZIWhK__YrPv"
      },
      "execution_count": null,
      "outputs": []
    },
    {
      "cell_type": "code",
      "source": [
        "from IPython.display import display, Javascript\n",
        "from google.colab.output import eval_js\n",
        "from base64 import b64decode\n",
        "\n",
        "def take_photo(filename='photo.jpg', quality=0.8):\n",
        "  js = Javascript('''\n",
        "    async function takePhoto(quality) {\n",
        "      const div = document.createElement('div');\n",
        "      const capture = document.createElement('button');\n",
        "      capture.textContent = 'Capture';\n",
        "      div.appendChild(capture);\n",
        "\n",
        "      const video = document.createElement('video');\n",
        "      video.style.display = 'block';\n",
        "      const stream = await navigator.mediaDevices.getUserMedia({video: true});\n",
        "\n",
        "      document.body.appendChild(div);\n",
        "      div.appendChild(video);\n",
        "      video.srcObject = stream;\n",
        "      await video.play();\n",
        "\n",
        "      // Resize the output to fit the video element.\n",
        "      google.colab.output.setIframeHeight(document.documentElement.scrollHeight, true);\n",
        "\n",
        "      // Wait for Capture to be clicked.\n",
        "      await new Promise((resolve) => capture.onclick = resolve);\n",
        "\n",
        "      const canvas = document.createElement('canvas');\n",
        "      canvas.width = video.videoWidth;\n",
        "      canvas.height = video.videoHeight;\n",
        "      canvas.getContext('2d').drawImage(video, 0, 0);\n",
        "      stream.getVideoTracks()[0].stop();\n",
        "      div.remove();\n",
        "      return canvas.toDataURL('image/jpeg', quality);\n",
        "    }\n",
        "    ''')\n",
        "  display(js)\n",
        "  data = eval_js('takePhoto({})'.format(quality))\n",
        "  binary = b64decode(data.split(',')[1])\n",
        "  with open(filename, 'wb') as f:\n",
        "    f.write(binary)\n",
        "  return filename"
      ],
      "metadata": {
        "id": "LQEPSxRN0Uwe"
      },
      "execution_count": null,
      "outputs": []
    },
    {
      "cell_type": "code",
      "source": [
        "from IPython.display import Image\n",
        "try:\n",
        "  filename = take_photo()\n",
        "  display(Image(filename))\n",
        "  data = detect_who_is_this(filename)\n",
        "  if(data[\"Matched\"]):\n",
        "    name = data[\"Name\"]\n",
        "    print(f\"Found in DataBase with Name : {name}\")\n",
        "  else:\n",
        "    print(f\"Not Found in DataBase\")\n",
        "except Exception as err:\n",
        "  print(str(err))"
      ],
      "metadata": {
        "id": "pIaLAyya0Uwg"
      },
      "execution_count": null,
      "outputs": []
    },
    {
      "cell_type": "markdown",
      "source": [],
      "metadata": {
        "id": "jU2_pDTuYqPi"
      }
    },
    {
      "cell_type": "markdown",
      "source": [],
      "metadata": {
        "id": "HToYq34kYqR3"
      }
    },
    {
      "cell_type": "markdown",
      "source": [],
      "metadata": {
        "id": "rXLMUboRYqVU"
      }
    },
    {
      "cell_type": "markdown",
      "source": [
        "For testing purpose"
      ],
      "metadata": {
        "id": "9nlTkw39YqXi"
      }
    },
    {
      "cell_type": "code",
      "source": [
        "import face_recognition\n",
        "test_face_image = face_recognition.load_image_file(\"/gdrive/MyDrive/face_rec/Celebrity Faces Dataset/Virat_Kohli/Virat_Kohli10.png\")\n",
        "test_face_encoding = face_recognition.face_encodings(test_face_image)[0]\n",
        "print(test_face_encoding)"
      ],
      "metadata": {
        "id": "mfyVCEMZ2UcT"
      },
      "execution_count": null,
      "outputs": []
    }
  ]
}